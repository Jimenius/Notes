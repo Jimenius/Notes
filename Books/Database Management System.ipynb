{
 "cells": [
  {
   "cell_type": "markdown",
   "metadata": {},
   "source": [
    "# <span style=\"color:blue\">Database Management System</span>\n",
    "Raghu Ramakrishnan, Johannes Gehrke"
   ]
  },
  {
   "cell_type": "markdown",
   "metadata": {},
   "source": [
    "### <span style=\"color:red\">Chapter 5 SQL: Queries, Programming, Triggers</span>\n",
    "Structured Query Language (SQL) is the most widely used commercial relational database language.\n",
    "\n",
    "The Data Definition Language (DDL): supports the creation, deletion, and modification of definitions for tables and views. Integrity constraints can be defined on tables, either when the table is created or later. The DDL also provides commands for specifying access rights or privileges to tables and views.\n",
    "\n",
    "The Data Manipulation Language (DML): This subset of SQL allows users to pose queries and to insert, delete, and modify rows.\n",
    "\n",
    "Embedded and dynamic SQL: allows SQL code to be called from a host language such as C or COBOL. Dynamic SQL features allow a query to be constructed (and executed) at run-time.\n",
    "\n",
    "Triggers: are actions executed by the DBMS whenever changes to the database meet conditions specified in the trigger.\n",
    "\n",
    "Security: SQL provides mechanisms to control users’ access to data objects such as tables and views.\n",
    "\n",
    "Transaction management: Various commands allow a user to explicitly control aspects of how a transaction is to be executed.\n",
    "\n",
    "Client-server execution and remote database access: These commands control how a client application program can connect to an SQL database server, or access data from a database over a network."
   ]
  },
  {
   "cell_type": "markdown",
   "metadata": {},
   "source": [
    "##### <span style=\"color:green\">5.2 The Form of a Basic SQL query</span>\n",
    "basic form of an SQL query: SELECT \\[DISTINCT\\] &lt;columns&gt; FROM &lt;table&gt; WHERE &lt;condition&gt;\n",
    "\n",
    "AS introduces a range variable.\n",
    "\n",
    "SELECT * provides a convinient way to retrieve all columns.\n",
    "\n",
    "If we need to sort strings by an order other than alphabetical (e.g., sort strings denoting month names in the calendar order January, February, March, etc.), SQL-92 supports a general concept of a collation, or sort order, for a character set. A collation allows the user to specify which characters are less than which others, and provides great flexibility in string manipulation.\n",
    "\n",
    "In addition, SQL provides support for pattern matching through the LIKE operator, along with the use of the wild-card symbols % (which stands for zero or more arbitrary characters) and _ (which stands for exactly one, arbitrary, character). Thus, ‘_AB%’ denotes a pattern that will match every string that contains at least three characters, with the second and third characters being A and B respectively. Note that unlike the other comparison operators, blanks can be significant for the LIKE operator (depending on the collation for the underlying character set). Thus, ‘Jeff’ = ‘Jeff ’ could be true while ‘Jeff’ LIKE ‘Jeff ’ is false."
   ]
  },
  {
   "cell_type": "markdown",
   "metadata": {},
   "source": [
    "##### <span style=\"color:green\">5.3 Union, Intersection, and Except</span>\n",
    "SQL provides three set-manipulation constructs that extend the basic query form pre-\n",
    "sented earlier. Since the answer to a query is a multiset of rows, it is natural to consider\n",
    "the use of operations such as union, intersection, and difference.\n",
    "\n",
    "Note that UNION, INTERSECT, and EXCEPT can be used on any two tables that are union-compatible, that is, have the same number of columns and the columns, taken in order, have the same types.\n",
    "\n",
    "In contrast to the default that duplicates are not eliminated unless DISTINCT is specified in the basic query form, the default for UNION queries is that duplicates are eliminated! To retain duplicates, UNION ALL must be used; if so, the number of copies of a row in the result is $m + n$, where $m$ and $n$ are the numbers of times that the row appears in the two parts of the union. Similarly, one version of INTERSECT retains duplicates—the number of copies of a row in the result is $min(m,n)$ and one version of EXCEPT also retains duplicates, the number of copies of a row in the result is $m − n$, where $m$ corresponds to the first relation."
   ]
  },
  {
   "cell_type": "markdown",
   "metadata": {},
   "source": [
    "##### <span style=\"color:green\">5.4 Nested Queries</span>\n",
    "A nested query is a query that has another query embedded within it; the embedded query is called a subquery.\n",
    "\n",
    "The EXISTS operator is another set comparison operator, such as IN. It allows us to test whether a set is nonempty.\n",
    "\n",
    "SQL also supports op ANY and op ALL, where op is one of the arithmetic comparison operators {<, <=, =, <>, >=, >}. (SOME is also available, but it is just a synonym for ANY.)"
   ]
  },
  {
   "cell_type": "markdown",
   "metadata": {},
   "source": [
    "##### <span style=\"color:green\">5.5 Aggregate Operators</span>\n",
    "SQL supports five aggregate operations.\n",
    "1. COUNT(\\[DISTINCT\\] A): The number of (unique) values in the A column.\n",
    "2. SUM(\\[DISTINCT\\] A): The sum of all (unique) values in the A column.\n",
    "3. AVG(\\[DISTINCT\\] A): The average of all (unique) values in the A column.\n",
    "4. MAX(A): The maximum value in the A column.\n",
    "5. MIN(A): The minimum value in the A column.\n",
    "\n",
    "If the SELECT clause uses an aggregate operation, then it must use only aggregate operations unless the query contains a GROUP BY clause!\n",
    "\n",
    "The general form of an SQL query with GROUP BY extensions is:\n",
    "\n",
    "SELECT \\[DISTINCT\\] &lt;columns&gt; from &lt;tables&gt; WHERE &lt;condition&gt; GROUP BY &lt;group-list&gt; HAVING &lt;qualifications&gt;\n",
    "- The select-list in the SELECT clause consists of\n",
    "  1. a list of column names\n",
    "  2. a list of terms having the form aggop ( column-name ) AS new-name. The optional AS new-name term gives this column a name in the table that is the result of the query. Any of the aggregation operators can be used for aggop.\n",
    "- Every column that appears in column names must also appear in grouping-list. The reason is that each row in the result of the query corresponds to one group, which is a collection of rows that agree on the values of columns in grouping-list. If a column appears column names, but not in grouping-list, it is not clear what value should be assigned to it in an answer row.\n",
    "- The expressions appearing in the group-qualification in the HAVING clause must have a single value per group. The intuition is that the HAVING clause determines whether an answer row is to be generated for a given group. Therefore, a col- umn appearing in the group-qualification must appear as the argument to an aggregation operator, or it must also appear in grouping-list.\n",
    "- If the GROUP BY clause is omitted, the entire table is regarded as a single group."
   ]
  },
  {
   "cell_type": "code",
   "execution_count": null,
   "metadata": {},
   "outputs": [],
   "source": []
  }
 ],
 "metadata": {
  "kernelspec": {
   "display_name": "Python 3",
   "language": "python",
   "name": "python3"
  },
  "language_info": {
   "codemirror_mode": {
    "name": "ipython",
    "version": 3
   },
   "file_extension": ".py",
   "mimetype": "text/x-python",
   "name": "python",
   "nbconvert_exporter": "python",
   "pygments_lexer": "ipython3",
   "version": "3.7.5"
  }
 },
 "nbformat": 4,
 "nbformat_minor": 2
}
