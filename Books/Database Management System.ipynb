{
 "cells": [
  {
   "cell_type": "markdown",
   "metadata": {},
   "source": [
    "# <span style=\"color:blue\">Database Management System</span>\n",
    "Raghu Ramakrishnan, Johannes Gehrke"
   ]
  },
  {
   "cell_type": "markdown",
   "metadata": {},
   "source": [
    "### <span style=\"color:red\">Chapter 2 Entity-Relationship Model</span>"
   ]
  },
  {
   "cell_type": "markdown",
   "metadata": {},
   "source": [
    "##### <span style=\"color:green\">2.4 Additional Features of The ER Model</span>\n",
    "One-to-one, One-to-many, Many-to-one, Many-to-many relationships\n",
    "\n",
    "Key constraints, Participation constraints\n",
    "\n",
    "Total, Partial\n",
    "\n",
    "The total participation of Dependents in Policy is indicated by linking them with a dark line. The arrow indicates that each Dependents entity appears in at most one (indeed, exactly one, because of the participation constraint) relationship. To underscore a weak entity and its identifying relationship, we draw both with dark lines.\n",
    "\n",
    "A weak entity can be identified uniquely only by considering some of its attributes in conjunction with the primary key of another entity, which is called the identifying owner.\n",
    "- The owner entity set and the weak entity set must participate in a one-to-many relationship set (one owner entity is associated with one or more weak entities, but each weak entity has a single owner). This relationship set is called the identifying relationship set of the weak entity set.\n",
    "- The weak entity set must have total participation in the identifying relationship set.\n",
    "\n",
    "inherit, ISA, specialize, superclass, generalize\n",
    "\n",
    "Overlap constraints determine whether two subclasses are allowed to contain the same entity.\n",
    "\n",
    "Covering constraints determine whether the entities in the subclasses collectively include all entities in the superclass.\n",
    "\n",
    "Aggregation allows us to indicate that a relationship set (identified through a dashed box) participates in another relationship set."
   ]
  },
  {
   "cell_type": "markdown",
   "metadata": {},
   "source": [
    "##### <span style=\"color:green\">2.5 Conceptual Database Design with The ER Model</span>\n",
    "Developing an ER diagram presents several choices, including the following:\n",
    "- Should a concept be modeled as an entity or an attribute?\n",
    "- Should a concept be modeled as an entity or a relationship?\n",
    "- What are the relationship sets and their participating entity sets? Should we use binary or ternary relationships?\n",
    "- Should we use aggregation?"
   ]
  },
  {
   "cell_type": "markdown",
   "metadata": {},
   "source": [
    "### <span style=\"color:red\">Chapter 3 Relational Model</span>"
   ]
  },
  {
   "cell_type": "markdown",
   "metadata": {},
   "source": [
    "##### <span style=\"color:green\">3.1 Introduction to the Relational Model</span>\n",
    "The main construct for representing data in the relational model is a relation. A relation consists of a relation schema and a relation instance. The relation instance is a table, and the relation schema describes the column heads for the table. The schema specifies the relation’s name, the name of each field (or column, or attribute), and the domain of each field. A domain is referred to in a relation schema by the domain name and has a set of associated values.\n",
    "\n",
    "An instance of a relation is a set of tuples, also called records, in which each tuple has the same number of fields as the relation schema. A relation instance can be thought of as a table in which each tuple is a row, and all rows have the same number of fields.\n",
    "\n",
    "An instance of a relation is a set of tuples, also called records, in which each tuple has the same number of fields as the relation schema. A relation instance can be thought of as a table in which each tuple is a row, and all rows have the same number of fields.\n",
    "\n",
    "The degree, also called arity, of a relation is the number of fields. The cardinality of a relation instance is the number of tuples in it. \n",
    "A relational database is a collection of relations with distinct relation names. The relational database schema is the collection of schemas for the relations in the database. An instance of a relational database is a collection of relation instances, one per relation schema in the database schema.\n",
    "\n",
    "The subset of SQL that supports the creation, deletion, and modification of tables is called the Data Definition Language (DDL)."
   ]
  },
  {
   "cell_type": "markdown",
   "metadata": {},
   "source": [
    "##### <span style=\"color:green\">3.2 Integrity Constraints over Relations</span>\n",
    "A database is only as good as the information stored in it, and a DBMS must therefore help prevent the entry of incorrect information. An integrity constraint (IC) is a condition that is specified on a database schema, and restricts the data that can be stored in an instance of the database. If a database instance satisfies all the integrity constraints specified on the database schema, it is a legal instance. A DBMS enforces integrity constraints, in that it permits only legal instances to be stored in the database.\n",
    "\n",
    "When the DBA or end user defines a database schema, he or she specifies the ICs that must hold on any instance of this database. When a database application is run, the DBMS checks for violations and disallows changes to the data that violate the specified ICs.\n",
    "\n",
    "A key constraint is a statement that a certain minimal subset of the fields of a relation is a unique identifier for a tuple. A set of fields that uniquely identifies a tuple according to a key constraint is called a candidate key for the relation. Key constraints include:\n",
    "1. Two distinct tuples in a legal instance (an instance that satisfies all ICs, including the key constraint) cannot have identical values in all the fields of a key.\n",
    "2. No subset of the set of fields in a key is a unique identifier for a tuple.\n",
    "\n",
    "Out of all the available candidate keys, a database designer can identify a primary key. Intuitively, a tuple can be referred to from elsewhere in the database by storing the values of its primary key fields.\n",
    "\n",
    "In SQL we can declare that a subset of the columns of a table constitute a key by using the UNIQUE constraint. At most one of these ‘candidate’ keys can be declared to be a primary key, using the PRIMARY KEY constraint. (SQL does not require that such constraints be declared for a table.)\n",
    "\n",
    "Sometimes the information stored in a relation is linked to the information stored in another relation. If one of the relations is modified, the other must be checked, and perhaps modified, to keep the data consistent. An IC involving both relations must be specified if a DBMS is to make such checks. The most common IC involving two relations is a foreign key constraint. A foreign key could refer to the same relation.\n",
    "\n",
    "The use of null in a field of a tuple means that value in that field is either unknown or not applicable. The appearance of null in a foreign key field does not violate the foreign key constraint. However, null values are not allowed to appear in a primary key field."
   ]
  },
  {
   "cell_type": "markdown",
   "metadata": {},
   "source": [
    "##### <span style=\"color:green\">3.3 Enforcing Integrity Constraints</span>\n",
    "SQL-92 allows us to choose any of the four options on DELETE and UPDATE. The options are specified as part of the foreign key declaration. The default option is NO ACTION, which means that the action (DELETE or UPDATE) is to be rejected. Thus, the ON UPDATE clause in our example could be omitted, with the same effect. The CASCADE keyword says that if a Students row is deleted, all Enrolled rows that refer to it are to be deleted as well. SQL also allows the use of null as the default value by specifying ON DELETE SET NULL."
   ]
  },
  {
   "cell_type": "markdown",
   "metadata": {},
   "source": [
    "##### <span style=\"color:green\">3.4 Querying Relational Data</span>\n",
    "A relational database query is a question about the data, and the answer consists of a new relation containing the result. A query language is a specialized language for writing queries. SQL is the most popular commercial query language for a relational DBMS."
   ]
  },
  {
   "cell_type": "markdown",
   "metadata": {},
   "source": [
    "##### <span style=\"color:green\">3.5 Logical Database Design: ER to Relational</span>\n",
    "An entity set is mapped to a relation in a straightforward way: Each attribute of the entity set becomes an attribute of the table.\n",
    "\n",
    "To represent a relationship, we must be able to identify each participating entity and give values to the descriptive attributes of the relationship. Thus, the attributes of the relation\n",
    "include:\n",
    "- The primary key attributes of each participating entity set, as foreign key fields.\n",
    "- The descriptive attributes of the relationship set.\n",
    "\n",
    "If a relationship set involves $n$ entity sets and some $m$ of them are linked via arrows in the ER diagram, the key for any one of these $m$ entity sets constitutes a key for the relation to which the relationship set is mapped. Thus we have $m$ candidate keys, and one of these should be designated as the primary key.\n",
    "\n",
    "A second approach to translating a relationship set with key constraints is often superior because it avoids creating a distinct table for the relationship set. The idea is to include the information about the relationship set in the table corresponding to the entity set with the key, taking advantage of the key constraint.\n",
    "\n",
    "This approach eliminates the need for a separate Manages relation, and queries asking for a department’s manager can be answered without combining information from two relations. The only drawback to this approach is that space could be wasted if several departments have no managers. In this case the added fields would have to be filled with null values. The first translation (using a separate table for Manages) avoids this inefficiency, but some important queries require us to combine information from two relations, which can be a slow operation.\n",
    "\n",
    "This idea can be extended to deal with relationship sets involving more than two entity sets. In general, if a relationship set involves $n$ entity sets and some $m$ of them are linked via arrows in the ER diagram, the relation corresponding to any one of the $m$ sets can be augmented to capture the relationship."
   ]
  },
  {
   "cell_type": "markdown",
   "metadata": {},
   "source": [
    "##### <span style=\"color:green\">3.6 Introduction to Views</span>\n",
    "A view is a table whose rows are not explicitly stored in the database but are computed as needed from a view definition.\n",
    "\n",
    "The view can be used just like a base table, or explicitly stored table, in defining new queries or views.\n",
    "\n",
    "An important observation is that an INSERT or UPDATE may change the underlying base table so that the resulting row is not in the view."
   ]
  },
  {
   "cell_type": "markdown",
   "metadata": {},
   "source": [
    "##### <span style=\"color:green\">3.7 Destroying / Altering Tables and Views</span>\n",
    "If we decide that we no longer need a base table and want to destroy it, we can use the DROP TABLE command. For example, DROP TABLE Students RESTRICT destroys the Students table unless some view or integrity constraint refers to Students; if so, the command fails. If the keyword RESTRICT is replaced by CASCADE, It is dropped and any referencing views or integrity constraints are (recursively) dropped as well; one of these two keywords must always be specified. A view can be dropped using the DROP VIEW command, which is just like DROP TABLE.\n",
    "\n",
    "ALTER TABLE modifies the structure of an existing table."
   ]
  },
  {
   "cell_type": "markdown",
   "metadata": {},
   "source": [
    "### <span style=\"color:red\">Chapter 4 Relational Algebra and Calculus</span>"
   ]
  },
  {
   "cell_type": "markdown",
   "metadata": {},
   "source": [
    "##### <span style=\"color:green\">4.1 Preliminaries</span>\n",
    "The inputs and outputs of a query are relations. A query is evaluated using instances of each input relation and it produces an instance of the output relation.\n",
    "\n",
    "The key fields are underlined, and the domain of each field is listed after the field name."
   ]
  },
  {
   "cell_type": "markdown",
   "metadata": {},
   "source": [
    "##### <span style=\"color:green\">4.2 Relational Algebra</span>\n",
    "Relational algebra is one of the two formal query languages associated with the relational model. Queries in algebra are composed using a collection of operators. A fundamental property is that every operator in the algebra accepts (one or two) relation instances as arguments and returns a relation instance as the result. This property makes it easy to compose operators to form a complex query, a relational algebra expression is recursively defined to be a relation, a unary algebra operator applied to a single expression, or a binary algebra operator applied to two expressions. We describe the basic operators of the algebra (selection, projection, union, cross-product, and difference), as well as some additional operators that can be defined in terms of the basic operators but arise frequently enough to warrant special attention, in the following sections.\n",
    "\n",
    "Each relational query describes a step-by-step procedure for computing the desired answer, based on the order in which operators are applied in the query. The procedural nature of the algebra allows us to think of an algebra expression as a recipe, or a plan, for evaluating a query, and relational systems in fact use algebra expressions to represent query evaluation plans.\n",
    "\n",
    "Relational algebra includes operators to select rows from a relation ($\\sigma$) and to project columns ($\\pi$). These operations allow us to manipulate data in a single relation."
   ]
  },
  {
   "cell_type": "markdown",
   "metadata": {},
   "source": [
    "### <span style=\"color:red\">Chapter 5 SQL: Queries, Programming, Triggers</span>\n",
    "Structured Query Language (SQL) is the most widely used commercial relational database language.\n",
    "\n",
    "The Data Definition Language (DDL): supports the creation, deletion, and modification of definitions for tables and views. Integrity constraints can be defined on tables, either when the table is created or later. The DDL also provides commands for specifying access rights or privileges to tables and views.\n",
    "\n",
    "The Data Manipulation Language (DML): This subset of SQL allows users to pose queries and to insert, delete, and modify rows.\n",
    "\n",
    "Embedded and dynamic SQL: allows SQL code to be called from a host language such as C or COBOL. Dynamic SQL features allow a query to be constructed (and executed) at run-time.\n",
    "\n",
    "Triggers: are actions executed by the DBMS whenever changes to the database meet conditions specified in the trigger.\n",
    "\n",
    "Security: SQL provides mechanisms to control users’ access to data objects such as tables and views.\n",
    "\n",
    "Transaction management: Various commands allow a user to explicitly control aspects of how a transaction is to be executed.\n",
    "\n",
    "Client-server execution and remote database access: These commands control how a client application program can connect to an SQL database server, or access data from a database over a network."
   ]
  },
  {
   "cell_type": "markdown",
   "metadata": {},
   "source": [
    "##### <span style=\"color:green\">5.2 The Form of a Basic SQL query</span>\n",
    "basic form of an SQL query: SELECT \\[DISTINCT\\] &lt;columns&gt; FROM &lt;table&gt; WHERE &lt;condition&gt;\n",
    "\n",
    "AS introduces a range variable.\n",
    "\n",
    "SELECT * provides a convinient way to retrieve all columns.\n",
    "\n",
    "If we need to sort strings by an order other than alphabetical (e.g., sort strings denoting month names in the calendar order January, February, March, etc.), SQL-92 supports a general concept of a collation, or sort order, for a character set. A collation allows the user to specify which characters are less than which others, and provides great flexibility in string manipulation.\n",
    "\n",
    "In addition, SQL provides support for pattern matching through the LIKE operator, along with the use of the wild-card symbols % (which stands for zero or more arbitrary characters) and _ (which stands for exactly one, arbitrary, character). Thus, ‘_AB%’ denotes a pattern that will match every string that contains at least three characters, with the second and third characters being A and B respectively. Note that unlike the other comparison operators, blanks can be significant for the LIKE operator (depending on the collation for the underlying character set). Thus, ‘Jeff’ = ‘Jeff ’ could be true while ‘Jeff’ LIKE ‘Jeff ’ is false."
   ]
  },
  {
   "cell_type": "markdown",
   "metadata": {},
   "source": [
    "##### <span style=\"color:green\">5.3 Union, Intersection, and Except</span>\n",
    "SQL provides three set-manipulation constructs that extend the basic query form pre-\n",
    "sented earlier. Since the answer to a query is a multiset of rows, it is natural to consider\n",
    "the use of operations such as union, intersection, and difference.\n",
    "\n",
    "Note that UNION, INTERSECT, and EXCEPT can be used on any two tables that are union-compatible, that is, have the same number of columns and the columns, taken in order, have the same types.\n",
    "\n",
    "In contrast to the default that duplicates are not eliminated unless DISTINCT is specified in the basic query form, the default for UNION queries is that duplicates are eliminated! To retain duplicates, UNION ALL must be used; if so, the number of copies of a row in the result is $m + n$, where $m$ and $n$ are the numbers of times that the row appears in the two parts of the union. Similarly, one version of INTERSECT retains duplicates—the number of copies of a row in the result is $min(m,n)$ and one version of EXCEPT also retains duplicates, the number of copies of a row in the result is $m − n$, where $m$ corresponds to the first relation."
   ]
  },
  {
   "cell_type": "markdown",
   "metadata": {},
   "source": [
    "##### <span style=\"color:green\">5.4 Nested Queries</span>\n",
    "A nested query is a query that has another query embedded within it; the embedded query is called a subquery.\n",
    "\n",
    "The EXISTS operator is another set comparison operator, such as IN. It allows us to test whether a set is nonempty.\n",
    "\n",
    "SQL also supports op ANY and op ALL, where op is one of the arithmetic comparison operators {<, <=, =, <>, >=, >}. (SOME is also available, but it is just a synonym for ANY.)"
   ]
  },
  {
   "cell_type": "markdown",
   "metadata": {},
   "source": [
    "##### <span style=\"color:green\">5.5 Aggregate Operators</span>\n",
    "SQL supports five aggregate operations.\n",
    "1. COUNT(\\[DISTINCT\\] A): The number of (unique) values in the A column.\n",
    "2. SUM(\\[DISTINCT\\] A): The sum of all (unique) values in the A column.\n",
    "3. AVG(\\[DISTINCT\\] A): The average of all (unique) values in the A column.\n",
    "4. MAX(A): The maximum value in the A column.\n",
    "5. MIN(A): The minimum value in the A column.\n",
    "\n",
    "If the SELECT clause uses an aggregate operation, then it must use only aggregate operations unless the query contains a GROUP BY clause!\n",
    "\n",
    "The general form of an SQL query with GROUP BY extensions is:\n",
    "\n",
    "SELECT \\[DISTINCT\\] &lt;columns&gt; from &lt;tables&gt; WHERE &lt;condition&gt; GROUP BY &lt;group-list&gt; HAVING &lt;qualifications&gt;\n",
    "- The select-list in the SELECT clause consists of\n",
    "  1. a list of column names\n",
    "  2. a list of terms having the form aggop ( column-name ) AS new-name. The optional AS new-name term gives this column a name in the table that is the result of the query. Any of the aggregation operators can be used for aggop.\n",
    "- Every column that appears in column names must also appear in grouping-list. The reason is that each row in the result of the query corresponds to one group, which is a collection of rows that agree on the values of columns in grouping-list. If a column appears column names, but not in grouping-list, it is not clear what value should be assigned to it in an answer row.\n",
    "- The expressions appearing in the group-qualification in the HAVING clause must have a single value per group. The intuition is that the HAVING clause determines whether an answer row is to be generated for a given group. Therefore, a col- umn appearing in the group-qualification must appear as the argument to an aggregation operator, or it must also appear in grouping-list.\n",
    "- If the GROUP BY clause is omitted, the entire table is regarded as a single group."
   ]
  }
 ],
 "metadata": {
  "kernelspec": {
   "display_name": "Python 3",
   "language": "python",
   "name": "python3"
  },
  "language_info": {
   "codemirror_mode": {
    "name": "ipython",
    "version": 3
   },
   "file_extension": ".py",
   "mimetype": "text/x-python",
   "name": "python",
   "nbconvert_exporter": "python",
   "pygments_lexer": "ipython3",
   "version": "3.7.6"
  }
 },
 "nbformat": 4,
 "nbformat_minor": 2
}
