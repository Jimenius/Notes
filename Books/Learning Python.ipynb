{
 "cells": [
  {
   "cell_type": "markdown",
   "metadata": {},
   "source": [
    "# <span style=\"color:blue\">Learning Python</span>\n",
    "Platform: Book\n",
    "\n",
    "Author: Mark Lutz"
   ]
  },
  {
   "cell_type": "markdown",
   "metadata": {},
   "source": [
    "### <span style=\"color:red\">Chapter 3 How You Run Programs</span>\n",
    "##### <span style=\"color:green\">Unix-Style Executable Scripts: #!</span>\n",
    "If you are going to use Python on a Unix, Linux, or Unix-like system, you can also turn files of Python code into executable programs, much as you would for programs coded in a shell language. Scripts usually start with a line that begins with the characters #!, followed by the path to the Python interpreter on your machine.\n",
    "\n",
    "On some Unix systems, you can avoid hardcoding the path to the Python interpreter in your script file by writing the special first-line comment like this:\n",
    "\n",
    "#!/usr/bin/env python\n",
    "\n",
    "When coded this way, the env program locates the Python interpreter according to your system search path settings.\n",
    "\n",
    "After the first import, later imports do nothing, even if you change and save the module’s source file again in another window\n",
    "##### <span style=\"color:green\">Module Imports and Reloads</span>\n",
    "After the first import, later imports do nothing, even if you change and save the module’s source file again in another window. If you really want to force Python to run the file again in the same session without stopping and restarting the session, you need to instead call the reload function available in the importlib standard library module."
   ]
  },
  {
   "cell_type": "markdown",
   "metadata": {},
   "source": [
    "### <span style=\"color:red\">Chapter 7 String Fundamentals</span>\n",
    "##### <span style=\"color:green\">Unicode: The Short Story</span>\n",
    "<ul>\n",
    "    <li>\n",
    "        In Python 3.X there are three string types: str is used for Unicode text (including ASCII), bytes is used for binary data (including encoded text), and bytearray is a mutable variant of bytes. Files work in two modes: text, which represents content as str and implements Unicode encodings, and binary, which deals in raw bytes and does no data translation.\n",
    "    </li>\n",
    "    <li>\n",
    "        In Python 2.X, unicode strings represent Unicode text, str strings handle both 8- bit text and binary data, and bytearray is available in 2.6 and later as a back-port from 3.X. Normal files’ content is simply bytes represented as str, but a codecs module opens Unicode text files, handles encodings, and represents content as unicode objects.\n",
    "    </li>\n",
    "</ul>"
   ]
  }
 ],
 "metadata": {
  "kernelspec": {
   "display_name": "Python 3",
   "language": "python",
   "name": "python3"
  },
  "language_info": {
   "codemirror_mode": {
    "name": "ipython",
    "version": 3
   },
   "file_extension": ".py",
   "mimetype": "text/x-python",
   "name": "python",
   "nbconvert_exporter": "python",
   "pygments_lexer": "ipython3",
   "version": "3.7.5"
  }
 },
 "nbformat": 4,
 "nbformat_minor": 2
}
