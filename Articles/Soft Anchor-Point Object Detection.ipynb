{
 "cells": [
  {
   "cell_type": "markdown",
   "metadata": {},
   "source": [
    "Source: ArXiv\n",
    "\n",
    "Year: 2019\n",
    "\n",
    "Authors: Chenchen Zhu (Carnegie Mellon University), Fangyi Chen (Carnegie Mellon University), Zhiqiang Shen (Carnegie Mellon University), Marios Savvides (Carnegie Mellon University)"
   ]
  },
  {
   "cell_type": "markdown",
   "metadata": {},
   "source": [
    "Compared to conventional anchor-based approaches, anchor-free detectors have a few advantages in general:\n",
    "1. no manual tuning of hyperparameters for the anchor configuration;\n",
    "2. usually simpler architecture of detection head;\n",
    "3. potential to outperform anchor-based counterparts in terms of both accuracy and speed."
   ]
  },
  {
   "cell_type": "markdown",
   "metadata": {},
   "source": [
    "The anchor-free detectors can be roughly divided into two categories, anchor-point detection and key-point detection. Anchor-point detectors encode and decode object bounding boxes as anchor points with corresponding point-to-boundary distances, where the anchor points are the pixels on the pyramidal feature maps and they are associated with the features at their locations just like the anchor boxes. Key-point detectors predict the locations of several key points of the bounding box, e.g. corners, center, or extreme points, and group those key points to form a box.\n",
    "\n",
    "Key-point detectors can achieve relatively high average precision (AP) with relatively small input image size. But they rely on a single high-resolution feature map and repeated bottom-up top-down inference, thus suffering from high FLOPs and memory consumption, long training and testing time, as well as low compatibility with popular pretrained backbones. On the contrary, anchor-point detectors have several advantages:\n",
    "1. simpler network architecture;\n",
    "2. faster training and inference speed;\n",
    "3. potential to benefit from augmentations on feature pyramids\n",
    "4. flexible feature level selection. However, they cannot be as accurate as key-point-based methods under the same image scale of testing, especially less localization accuracy."
   ]
  },
  {
   "cell_type": "markdown",
   "metadata": {},
   "source": [
    "A positive anchor point is reweighted in the contribution to the network loss based on its distance to the object center and the soft feature selection weights of the instance to which it belongs. A meta-selection network, jointly trained with the detector, is proposed to predict the soft selection weights of the pyramid levels for each instance."
   ]
  }
 ],
 "metadata": {
  "kernelspec": {
   "display_name": "Python 3",
   "language": "python",
   "name": "python3"
  },
  "language_info": {
   "codemirror_mode": {
    "name": "ipython",
    "version": 3
   },
   "file_extension": ".py",
   "mimetype": "text/x-python",
   "name": "python",
   "nbconvert_exporter": "python",
   "pygments_lexer": "ipython3",
   "version": "3.7.5"
  }
 },
 "nbformat": 4,
 "nbformat_minor": 2
}
