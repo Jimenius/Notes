{
 "cells": [
  {
   "cell_type": "markdown",
   "metadata": {},
   "source": [
    "Source: CVPR\n",
    "\n",
    "Year: 2017\n",
    "\n",
    "Authors: Saining Xie, Ross Girshick, Piotr Dollar, Zhuowen Tu, Kaiming He\n",
    "\n",
    "Institutions: University of California San Diego, Facebook"
   ]
  },
  {
   "cell_type": "markdown",
   "metadata": {},
   "source": [
    "ResNext consists of a stack of residual blocks. These blocks have the same topology, and are subject to two simple rules: \n",
    "1. If producing spatial maps of the same size, the blocks share the same hyper-parameters.\n",
    "2. Each time when the spatial map is downsampled by a factor of 2, the width of the blocks is multiplied by a factor of 2.\n",
    "\n",
    "The second rule ensures that the computational complexity, in terms of FLOPs, is roughly the same for all blocks."
   ]
  },
  {
   "cell_type": "markdown",
   "metadata": {},
   "source": [
    "Splitting is essentially done by the grouped convolutional layer when it divides its input channels into groups. The grouped convolutional layer performs 32 groups of convolutions whose input and output channels are 4-dimensional. The grouped convolutional layer concatenates them as the outputs of the layer."
   ]
  }
 ],
 "metadata": {
  "kernelspec": {
   "display_name": "Python 3",
   "language": "python",
   "name": "python3"
  },
  "language_info": {
   "codemirror_mode": {
    "name": "ipython",
    "version": 3
   },
   "file_extension": ".py",
   "mimetype": "text/x-python",
   "name": "python",
   "nbconvert_exporter": "python",
   "pygments_lexer": "ipython3",
   "version": "3.7.6"
  }
 },
 "nbformat": 4,
 "nbformat_minor": 4
}
