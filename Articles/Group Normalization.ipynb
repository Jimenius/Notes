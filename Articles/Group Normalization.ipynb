{
 "cells": [
  {
   "cell_type": "markdown",
   "metadata": {},
   "source": [
    "Source: ECCV\n",
    "\n",
    "Year: 2018\n",
    "\n",
    "Authors: Yuxin Wu, Kaiming He\n",
    "\n",
    "Institutions: Facebook"
   ]
  },
  {
   "cell_type": "markdown",
   "metadata": {},
   "source": [
    "It is required for Batch Normalization to work with a sufficiently large batch size. A small batch leads to inaccurate estimation of the batch statistics, and reducing batch size increases the model error dramatically."
   ]
  },
  {
   "cell_type": "markdown",
   "metadata": {},
   "source": [
    "Group Normalization divides channels into groups and normalizes the features within each group. It does not exploit the batch dimension, and its computation is independent of batch sizes."
   ]
  },
  {
   "cell_type": "markdown",
   "metadata": {},
   "source": [
    "Group Normalization becomes Layer Normalization if the group number is set as 1. Layer Normalization assumes all channels in a layer make “similar contributions”. This assumption can be less valid with the presence of convolutions. Group Normalization is less restricted because each group of channels (instead of all of them) are assumed to subject to the shared mean and variance; the model still has flexibility of learning a different distribution for each group. This leads to improved representational power."
   ]
  },
  {
   "cell_type": "markdown",
   "metadata": {},
   "source": [
    "Group Normalization becomes Instance Normalization if we set the group number as $C$ (i.e., one channel per group). But Instance Normalization can only rely on the spatial dimension for computing the mean and variance and it misses the opportunity of exploiting the channel dependence."
   ]
  }
 ],
 "metadata": {
  "kernelspec": {
   "display_name": "Python 3",
   "language": "python",
   "name": "python3"
  },
  "language_info": {
   "codemirror_mode": {
    "name": "ipython",
    "version": 3
   },
   "file_extension": ".py",
   "mimetype": "text/x-python",
   "name": "python",
   "nbconvert_exporter": "python",
   "pygments_lexer": "ipython3",
   "version": "3.7.6"
  }
 },
 "nbformat": 4,
 "nbformat_minor": 2
}
