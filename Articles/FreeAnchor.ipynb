{
 "cells": [
  {
   "cell_type": "markdown",
   "metadata": {},
   "source": [
    "Source: NIPS\n",
    "\n",
    "Year: 2019\n",
    "\n",
    "Authors: Xiaosong Zhang, Fang Wan, Chang Liu, Rongrong Ji, Qixiang Ye\n",
    "\n",
    "Institutions: University of Chinese Academy of Sciences, Xiamen University, Peng Cheng Laboratory"
   ]
  },
  {
   "cell_type": "markdown",
   "metadata": {},
   "source": [
    "Anchor-based detectors leverage spatial alignment, i.e., Intersection over Unit (IoU) between objects and anchors, as the criterion for anchor assignment.\n",
    "\n",
    "On the one hand, for objects of acentric features, the most representative features are not close to object centers. A spatially aligned anchor might correspond to fewer representative features, which deteriorate classification and localization capabilities. On the other hand, it is infeasible to match proper anchors/features for objects using IoU when multiple objects come together."
   ]
  },
  {
   "cell_type": "markdown",
   "metadata": {},
   "source": [
    "1. To achieve a high recall rate, the detector is required to guarantee that for each object at least one anchor’s prediction is close to the ground-truth.\n",
    "2. In order to achieve high detection precision, the detector needs to classify anchors with poor localization (large bounding box regression error) into background.\n",
    "3. The predictions of anchors should be compatible with the non-maximum suppression (NMS) procedure, i.e., the higher the classification score is, the more accurate the localization is. Otherwise, an anchor with accurate localization but low classification score could be suppressed when using the NMS process."
   ]
  },
  {
   "cell_type": "markdown",
   "metadata": {},
   "source": [
    "The loss function of an one-stage detector is\n",
    "$$\\mathcal{L}(\\theta)=\\sum_{a_j\\in A_+}\\sum_{b_i\\in B}C_{ij}\\mathcal{L}_{ij}^{cls}(\\theta)+\\beta\\sum_{a_j\\in A_+}\\sum_{b_i\\in B}C_{ij}\\mathcal{L}_{ij}^{loc}(\\theta)+\\sum_{a_j\\in A_-}\\mathcal{L}_j^{bg}(\\theta)$$\n",
    "where $\\theta$ denotes the network parameters to be learned. $\\mathcal{L}_{ij}^{cls}(\\theta)=BCE(a_j^{cls},b_i^{cls},\\theta)$,$\\mathcal{L}_{ij}^{cls}(\\theta)=BCE(a_j^{cls},b_i^{cls},\\theta)$,$\\mathcal{L}_{ij}^{loc}(\\theta)=BCE(a_j^{cls},b_i^{cls},\\theta)$\n",
    "It is converted into a likelihood probability:\n",
    "$$\\mathcal{P}(\\theta)=e^{-\\mathcal{L}(\\theta)}=\\prod_{a_j\\in A_+}(\\sum_{b_i\\in B}C_{ij}\\mathcal{P}_{ij}^{cls}(\\theta))\\prod_{a_j\\in A_+}(\\sum_{b_i\\in B}C_{ij}\\mathcal{P}_{ij}^{loc}(\\theta))\\prod_{a_j\\in A_-}\\mathcal{P}_j^{bg}(\\theta)$$"
   ]
  },
  {
   "cell_type": "markdown",
   "metadata": {},
   "source": [
    "To achieve the optimization of object-anchor matching, the detection framework is extended by introducing detection customized likelihood.\n",
    "\n",
    "To implement the likelihood, first construct a bag of candidate anchors for each object $b_i$ by selecting top-ranked anchors $A_i\\subset A$ in terms of their IoU with the object.\n",
    "\n",
    "To optimize the recall rate, for each object $b_i\\in B$ we require to guarantee that there exists at least one anchor $a\\in A$, whose prediction is close to the ground-truth.\n",
    "$$\\mathcal{P}_{recall}(\\theta)=\\prod_i\\max_{a_j\\in A_i}(\\mathcal{P}_{ij}^{cls}(\\theta)\\mathcal{P}_{ij}^{loc}(\\theta))$$\n",
    "To achieve increased detection precision, detectors need to classify the anchors of poor localization into the background class.\n",
    "$$\\mathcal{P}_{precision}(\\theta)=\\prod_j(1-P(a_j\\in A_-)(1-\\mathcal{P}_j^{bg}(\\theta)))$$\n",
    "where $P(a_j\\in A_−) = 1 − max_iP(a_j\\to b_i)$ is the probability that $a_j$ misses all objects and $P(a_j\\to b_i)$ denotes the probability that anchor $a_j$ correctly predicts object $b_i$.\n",
    "\n",
    "To be compatible with the NMS procedure, $P(a_j\\to b_i)$ should have the following three properties:\n",
    "1. $P(a_j\\to b_i)$ is a monotonically increasing function of the $IoU$ between $a_j$ and $b_i$, $IoU_{ij}^{loc}$.\n",
    "2. When $IoU_{loc}$ is smaller than a threshold $t$, $P(a_j\\to b_i)$ is close to 0.\n",
    "3. For an object $b_i$ , there exists one and only one $a_j$ satisfying $P(a_j\\to b_i)$ = 1.\n",
    "\n",
    "These properties can be satisfied with a saturated linear function, as:\n",
    "$$F(x,t_1,t_2)=\\left\\{\\begin{matrix}0,&x\\leq t_1\\\\\\frac{x-t_1}{t_2-t_1},&t_1<x<t_2\\\\1,&x\\geq t_2\\end{matrix}\\right.$$\n",
    "$$P(a_j\\to b_i)=F(IoU_{ij}^{loc},t,max_j(IoU_{ij}^{loc}))$$\n",
    "$$\\mathcal{P}(\\theta)=\\mathcal{P}_{recall}(\\theta)\\times\\mathcal{P}_{precision}(\\theta)=\\prod_i\\max_{a_j\\in A_i}(\\mathcal{P}_{ij}^{cls}(\\theta)\\mathcal{P}_{ij}^{loc}(\\theta))\\times\\prod_j(1-P(a_j\\in A_-)(1-\\mathcal{P}_j^{bg}(\\theta)))$$"
   ]
  },
  {
   "cell_type": "markdown",
   "metadata": {},
   "source": [
    "The max function is used to select the best anchor for each object. At early training epochs, the confidence of all anchors is small for randomly initialized network parameters. The anchor with the highest confidence is not suitable for detector training. Use Mean-max function instead, defined as:\n",
    "$$MeanMax(X)=\\frac{\\sum_{x_j\\in X}\\frac{x_j}{1-x_j}}{\\sum_{x_j\\in X}\\frac{1}{1-x_j}}$$"
   ]
  },
  {
   "cell_type": "markdown",
   "metadata": {},
   "source": [
    "Replacing the max function with Mean-max, adding balance factor $w_1$, $w_2$, and applying focal loss, the detection customized loss function of an FreeAnchor detector is concluded as:\n",
    "$$\\mathcal{L}(\\theta)=-log\\mathcal{P}(\\theta)=-w_1\\sum_ilog(MeanMax(X_i))+w_2\\sum_jFL(P(a_j\\in A_-)(1-\\mathcal{P}_j^{bg}(\\theta)))$$\n",
    "where $X_i=(\\mathcal{P}_{ij}^{cls}(\\theta)\\mathcal{P}_{ij}^{loc}(\\theta)|a_j\\in A_i)$ is a likelihood set correspoinding to the anchor bag $A_i$. By using parameters $\\alpha$ and $\\gamma$ from focal loss, $w_1=\\frac{\\alpha}{|B|}$,$w_2=\\frac{1-\\alpha}{n|B|}$, and $FL(x)=-x^\\gamma log(1-x)$"
   ]
  }
 ],
 "metadata": {
  "kernelspec": {
   "display_name": "Python 3",
   "language": "python",
   "name": "python3"
  },
  "language_info": {
   "codemirror_mode": {
    "name": "ipython",
    "version": 3
   },
   "file_extension": ".py",
   "mimetype": "text/x-python",
   "name": "python",
   "nbconvert_exporter": "python",
   "pygments_lexer": "ipython3",
   "version": "3.7.6"
  }
 },
 "nbformat": 4,
 "nbformat_minor": 2
}
