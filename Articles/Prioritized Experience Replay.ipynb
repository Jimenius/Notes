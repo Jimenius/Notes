{
 "cells": [
  {
   "cell_type": "markdown",
   "metadata": {},
   "source": [
    "Source: ICLR\n",
    "\n",
    "Year: 2016\n",
    "\n",
    "Authors: Tom Schaul, John Quan, Ioannis Antonoglou, David Silver\n",
    "\n",
    "Institutions: Google DeepMind"
   ]
  },
  {
   "cell_type": "markdown",
   "metadata": {},
   "source": [
    "Prioritized Experience Replay replays transitions with high expected learning progress, as measured by the magnitude of their temporal-difference (TD) error. The prioritization can lead to a loss of diversity, which is alleviated with stochastic prioritization, and introduce bias, which is corrected with importance sampling."
   ]
  }
 ],
 "metadata": {
  "kernelspec": {
   "display_name": "Python 3",
   "language": "python",
   "name": "python3"
  },
  "language_info": {
   "codemirror_mode": {
    "name": "ipython",
    "version": 3
   },
   "file_extension": ".py",
   "mimetype": "text/x-python",
   "name": "python",
   "nbconvert_exporter": "python",
   "pygments_lexer": "ipython3",
   "version": "3.7.6"
  }
 },
 "nbformat": 4,
 "nbformat_minor": 2
}
