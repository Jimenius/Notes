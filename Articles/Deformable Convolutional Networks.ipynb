{
 "cells": [
  {
   "cell_type": "markdown",
   "metadata": {},
   "source": [
    "Source: ICCV\n",
    "\n",
    "Year: 2017\n",
    "\n",
    "Authors: Jifeng Dai, Haozhi Qi, Yuwen Xiong, Yi Li, Guodong Zhang, Han Hu, Yichen Wei\n",
    "\n",
    "Institutions: Microsoft Research Asia"
   ]
  },
  {
   "cell_type": "markdown",
   "metadata": {},
   "source": [
    "Convolutional Neural Networks are inherently limited to model large, unknown transformations. The limitation originates from the fixed geometric structures of modules: a convolution unit samples the input feature map at fixed locations; a pooling layer reduces the spatial resolution at a fixed ratio; an RoI (region-of-interest) pooling layer sepa rates an RoI into fixed spatial bins, etc. There lacks internal mechanisms to handle the geometric transformations."
   ]
  },
  {
   "cell_type": "markdown",
   "metadata": {},
   "source": [
    "Deformable convolution adds 2D offsets to the regular grid sampling locations in the standard convolution. It enables free form deformation of the sampling grid. The offsets are learned from the preceding feature maps, via additional convolutional layers.\n",
    "\n",
    "Deformable RoI pooling adds an offset to each bin position in the regular bin partition. Similarly, the offsets are learned from the preceding feature maps and the RoIs, enabling adaptive part localization for objects with different shapes."
   ]
  },
  {
   "cell_type": "markdown",
   "metadata": {},
   "source": [
    "In deformable convolution, the regular grid $\\mathcal{R}$ is augmented with offsets.\n",
    "$$y(p_0)=\\sum_{p_n\\in \\mathcal{R}}w(p_n)x(p_0+p_n+\\Delta p_n)$$\n",
    "\n",
    "As the offset $\\Delta p_n$ is typically fractional, it is implemented via bilinear interpolation.\n",
    "\n",
    "The offsets are obtained by applying a convolutional layer over the same input feature map. The convolution kernel is of the same spatial resolution and dilation as those of the current convolutional layer. The output offset fields have the same spatial resolution with the input feature map. The channel dimension $2N$ corresponds to $N$ 2D offsets. During training, both the convolutional kernels for generating the output features and the offsets are learned simultaneously. To learn the offsets, the gradients are backpropagated."
   ]
  },
  {
   "cell_type": "markdown",
   "metadata": {},
   "source": [
    "In deformable RoI pooling, offsets are added to the spatial binning positions.\n",
    "$$y(i,j)=\\sum_{p\\in bin(i,j)}x(p_0+p+\\Delta p_{ij})/n_{ij}$$"
   ]
  },
  {
   "cell_type": "markdown",
   "metadata": {},
   "source": [
    "Both deformable convolution and RoI pooling modules have the same input and output as their plain versions. Hence, they can readily replace their plain counterparts in existing CNNs. In the training, these added layers for offset learning are initialized with zero weights. Their learning rates are set to $\\beta$ times ($\\beta$ = 1 by default, and $\\beta$ = 0.01 for the fully connected layers in Faster R-CNN) of the learning rate for the existing layers. They are trained via back propagation through the bilinear interpolation operations. The resulting CNNs are called deformable ConvNets."
   ]
  }
 ],
 "metadata": {
  "kernelspec": {
   "display_name": "Python 3",
   "language": "python",
   "name": "python3"
  },
  "language_info": {
   "codemirror_mode": {
    "name": "ipython",
    "version": 3
   },
   "file_extension": ".py",
   "mimetype": "text/x-python",
   "name": "python",
   "nbconvert_exporter": "python",
   "pygments_lexer": "ipython3",
   "version": "3.7.6"
  }
 },
 "nbformat": 4,
 "nbformat_minor": 4
}
